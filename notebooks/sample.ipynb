{
  "nbformat": 4,
  "nbformat_minor": 0,
  "metadata": {
    "colab": {
      "provenance": [],
      "authorship_tag": "ABX9TyMHCyzPjMPnTozUVieJ0JFK",
      "include_colab_link": true
    },
    "kernelspec": {
      "name": "python3",
      "display_name": "Python 3"
    },
    "language_info": {
      "name": "python"
    }
  },
  "cells": [
    {
      "cell_type": "markdown",
      "metadata": {
        "id": "view-in-github",
        "colab_type": "text"
      },
      "source": [
        "<a href=\"https://colab.research.google.com/github/mxsonwabe/gesture-modelling/blob/main/notebooks/sample.ipynb\" target=\"_parent\"><img src=\"https://colab.research.google.com/assets/colab-badge.svg\" alt=\"Open In Colab\"/></a>"
      ]
    },
    {
      "cell_type": "markdown",
      "source": [
        "INTRODUCTORY: MODELLING\n"
      ],
      "metadata": {
        "id": "eG9IgKVaylG-"
      }
    },
    {
      "cell_type": "code",
      "source": [
        "import numpy as np\n",
        "input_data = np.random.rand(10, 2)\n",
        "print(input_data)\n",
        "input_data = input_data.round().astype(int)\n",
        "output = [ 0 if (data[0] == data[1]) else 1  for data in input_data]"
      ],
      "metadata": {
        "id": "Qa70s_KzbC_r"
      },
      "execution_count": null,
      "outputs": []
    },
    {
      "cell_type": "code",
      "source": [
        "for i in range(len(output)):\n",
        "  print(f\"{input_data[i]} -> {output[i]}\")"
      ],
      "metadata": {
        "id": "sm6EFpLtbwPh"
      },
      "execution_count": null,
      "outputs": []
    },
    {
      "cell_type": "code",
      "source": [
        "class Model():\n",
        "  def __init__(self):\n",
        "    self.epsilon = 0.001\n",
        "    self.input_weight = np.random.rand(2, 2)\n",
        "    self.output_weight = np.random.rand(1, 2)\n",
        "    self.input_data = np.random.rand(1, 2)\n",
        "    self.data = self.input_data.round().astype(int)\n",
        "    self.output = 0 if (self.data[0] == self.data[1]) else 1\n",
        "\n",
        "  def sigmoid(self, x):\n",
        "    return 1/(1 + np.e**(-x) + self.epsilon)\n",
        "\n",
        "  def train(self):\n",
        "    # weights_1 = np.random.rand(2, 2)\n",
        "    # weights_2 = np.random.rand(1, 2)\n",
        "    # For the real stuff\n",
        "    # dt = [input_data[0]]\n",
        "    return self.feedforward()\n",
        "\n",
        "  def feedforward(self):\n",
        "    l1 = np.dot(self.data, self.input_weight)\n",
        "    out_dot = np.dot(l1, self.output_weight.T)\n",
        "    return self.sigmoid(float(out_dot[0][0]))\n"
      ],
      "metadata": {
        "id": "bRwyspDyPjvl"
      },
      "execution_count": 105,
      "outputs": []
    },
    {
      "cell_type": "code",
      "execution_count": 109,
      "metadata": {
        "colab": {
          "base_uri": "https://localhost:8080/"
        },
        "id": "NtiDcDxaxXAT",
        "outputId": "a0306bf3-dc3b-4e74-a514-bd96b20c6faa"
      },
      "outputs": [
        {
          "output_type": "execute_result",
          "data": {
            "text/plain": [
              "0.5936431685150741"
            ]
          },
          "metadata": {},
          "execution_count": 109
        }
      ],
      "source": [
        "model = Model()\n",
        "model.train()\n"
      ]
    }
  ]
}